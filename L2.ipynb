{
 "cells": [
  {
   "cell_type": "code",
   "execution_count": 15,
   "id": "e7e1b7c7",
   "metadata": {},
   "outputs": [
    {
     "data": {
      "image/png": "[encoded data removed]",
      "text/plain": [
       "<Figure size 576x288 with 1 Axes>"
      ]
     },
     "metadata": {
      "needs_background": "light"
     },
     "output_type": "display_data"
    }
   ],
   "source": [
    "#Importing libraries\n",
    "import numpy as np\n",
    "import matplotlib.pyplot as plt\n",
    "import scipy.constants as const\n",
    "\n",
    "#Variables\n",
    "    # Constants\n",
    "l = 10e-9  # nm to meters\n",
    "Wn = 10e-9  # nm to meters\n",
    "Wp = 10e-9  # nm to meters\n",
    "Cn = 0.001e9  # nm^-3 to m^-3\n",
    "Cp = Cn\n",
    "e = const.e  # Electron charge\n",
    "epsilon_0 = const.epsilon_0  # Permittivity of free space\n",
    "\n",
    "    #rho\n",
    "rho_n = e * Cn\n",
    "rho_p = -e * Cp\n",
    "\n",
    "# Defining the potential function\n",
    "def phi(x):\n",
    "    if x <= l:\n",
    "        return 0\n",
    "    elif l < x <= l + Wp:\n",
    "        return (e * Cp / (2 * epsilon_0)) * (x - l) ** 2\n",
    "    elif l + Wp < x <= l + Wp + Wn:\n",
    "        return (e * Cp * Wp / (2 * epsilon_0)) * (2 * (x - l - Wp) + Wp) - (e * Cn / (2 * epsilon_0)) * (x - l - Wp) ** 2\n",
    "    else:\n",
    "        return (e * Cp * Wp ** 2 / (2 * epsilon_0)) + (e * Cn * Wn ** 2 / (2 * epsilon_0))\n",
    "\n",
    "#Generating arrays and plotting\n",
    "x_values = np.linspace(0, 2 * l + Wp + Wn, 1000)\n",
    "potential = np.array([phi(x) for x in x_values])\n",
    "plt.figure(figsize = (8,4))\n",
    "plt.plot(x_values * 1e9, potential, label = 'potential Φ(x)', color = 'red')\n",
    "plt.xlabel('Position (nm)', fontsize = 12, fontweight = 'bold')\n",
    "plt.ylabel('Potential (V)', fontsize = 12, fontweight = 'bold')\n",
    "plt.xlim(0, (2 * l + Wp + Wn) * 1e9)\n",
    "plt.ylim(bottom=0)\n",
    "plt.tight_layout()\n",
    "plt.show()"
   ]
  },
  {
   "cell_type": "code",
   "execution_count": null,
   "id": "085f676a",
   "metadata": {},
   "outputs": [],
   "source": []
  },
  {
   "cell_type": "code",
   "execution_count": null,
   "id": "a26ced0a",
   "metadata": {},
   "outputs": [],
   "source": []
  }
 ],
 "metadata": {
  "kernelspec": {
   "display_name": "Python 3 (ipykernel)",
   "language": "python",
   "name": "python3"
  },
  "language_info": {
   "codemirror_mode": {
    "name": "ipython",
    "version": 3
   },
   "file_extension": ".py",
   "mimetype": "text/x-python",
   "name": "python",
   "nbconvert_exporter": "python",
   "pygments_lexer": "ipython3",
   "version": "3.9.12"
  }
 },
 "nbformat": 4,
 "nbformat_minor": 5
}
